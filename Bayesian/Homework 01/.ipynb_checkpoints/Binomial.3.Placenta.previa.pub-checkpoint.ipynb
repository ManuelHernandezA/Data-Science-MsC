{
 "cells": [
  {
   "cell_type": "markdown",
   "metadata": {},
   "source": [
    "# Binomial model - Case studies"
   ]
  },
  {
   "cell_type": "markdown",
   "metadata": {},
   "source": [
    "_Adapted from Josep Fortiana (2023-03-13) by Jordi Abante (2024-03-11)_"
   ]
  },
  {
   "cell_type": "markdown",
   "metadata": {},
   "source": [
    "# Case study 3: Placenta previa"
   ]
  },
  {
   "cell_type": "markdown",
   "metadata": {},
   "source": [
    "A classical problem from the book by Andrew Gelman and others, _Bayesian Data Analysis - Third edition_ **(BDA3),** pag. 37."
   ]
  },
  {
   "cell_type": "markdown",
   "metadata": {},
   "source": [
    "Placenta previa is a problem in pregnancy where the placenta implants low on the uterus, potentially obstructing the birth canal. An early study concerning the sex of placenta previa births in Germany found that of a total of 980 births, 437 were female. How much evidence does this provide for the claim that the proportion of female births in the population of placenta previa births is less than 0.485, the proportion of female births in the general population?\n",
    "\n",
    "We know that: \n",
    "\n",
    "1. The proportion of female births in this population is 48.5\\%. \n",
    "\n",
    "2. A study of 980 placenta previa births found that 437 (44.6\\%) of them were female. \n",
    "\n",
    "How much evidence does this provide for the claim that the proportion of female births in the population of placenta previa\n",
    "births is is less than 0.485?"
   ]
  },
  {
   "cell_type": "markdown",
   "metadata": {},
   "source": [
    "## Analysis using a nonconjugate prior distribution \n",
    "\n",
    "### _(a) A discrete prior_"
   ]
  },
  {
   "cell_type": "markdown",
   "metadata": {},
   "source": [
    "In the BDA3 book they consider conjugate (Beta) priors, just as in the previous two Case Studies. Here, instead, we will use their next suggestion, a nonconjugate prior. As a first stage, as a sort of springboard, we take a very simple, discrete prior. To this end we add a fictitious historical proportion (from another state, say) of 45.0%. We assume a priori that both historical figures are equally probable."
   ]
  },
  {
   "cell_type": "markdown",
   "metadata": {},
   "source": [
    "### The discrete prior\n",
    "\n",
    "Thus, our discrete prior is:\n",
    "\n",
    "$$\n",
    "\t\\begin{array}{lcl}\n",
    "\t\\theta_{1}=0.485\t&\\text{ with probability }\t&\\pi_{1}\\equiv P(\\theta_{1})=0.5,\\\\\n",
    "\t\\theta_{2}=0.45\t\t&\\text{ with probability }\t&\\pi_{2}\\equiv P(\\theta_{2})=0.5.\n",
    "\t\\end{array}\n",
    "$$"
   ]
  },
  {
   "cell_type": "code",
   "execution_count": 5,
   "metadata": {
    "vscode": {
     "languageId": "r"
    }
   },
   "outputs": [],
   "source": [
    "# Prior information\n",
    "theta.1<-0.485\n",
    "theta.2<-0.45\n",
    "Prior.1<-0.5\n",
    "Prior.2<-0.5\n",
    "LogPrior.1<-log(Prior.1)\n",
    "LogPrior.2<-log(Prior.2)"
   ]
  },
  {
   "cell_type": "markdown",
   "metadata": {},
   "source": [
    "### Observed data"
   ]
  },
  {
   "cell_type": "code",
   "execution_count": 6,
   "metadata": {
    "vscode": {
     "languageId": "r"
    }
   },
   "outputs": [
    {
     "data": {
      "text/html": [
       "0.446"
      ],
      "text/latex": [
       "0.446"
      ],
      "text/markdown": [
       "0.446"
      ],
      "text/plain": [
       "[1] 0.446"
      ]
     },
     "metadata": {},
     "output_type": "display_data"
    }
   ],
   "source": [
    "# Observed data\n",
    "n<-980\n",
    "x<-437\n",
    "theta.obs<-x/n\n",
    "round(theta.obs,3)"
   ]
  },
  {
   "cell_type": "markdown",
   "metadata": {},
   "source": [
    "### Likelihood\n",
    "\n",
    "Likelihood is the usual binomial one:\n",
    "\n",
    "$$\n",
    "    f(x|\\theta)=\\theta^{x}\\cdot(1-\\theta)^{(n-x)}.\n",
    "$$\n",
    "\n",
    "In actual computations it may be safer to use its logarithm, _Log-likelihood,_ to avoid products of very large and very small quantities."
   ]
  },
  {
   "cell_type": "code",
   "execution_count": 7,
   "metadata": {
    "vscode": {
     "languageId": "r"
    }
   },
   "outputs": [],
   "source": [
    "Lik<-function(x,theta,n){theta^x*(1-theta)^(n-x)}\n",
    "LogLik<-function(x,theta,n){x*log(theta)+(n-x)*log(1-theta)}"
   ]
  },
  {
   "cell_type": "markdown",
   "metadata": {},
   "source": [
    "Note that the log of the unnormalized posterior ($p(\\theta|x)\\propto p(x|\\theta)p(\\theta)=p_u(\\theta|x)$) can be written as:\n",
    "$$\n",
    "\\log p_u(\\theta|x) = \\log (p(x|\\theta)\\cdot p(\\theta))  = \\log p(x|\\theta) + \\log p(\\theta)\n",
    "$$"
   ]
  },
  {
   "cell_type": "markdown",
   "metadata": {},
   "source": [
    "### Posterior\n",
    "\n",
    "Likelihood, joint pdf and their logarithms. Bayes formula needs the x marginal in the denominator to give the posterior pdf, but we can circumvent this step by normalizing to one the _non-normalized_ posterior pdf. Observe that, consistently with the data, the posterior probability of 0.45 is much higher than its prior value:"
   ]
  },
  {
   "cell_type": "code",
   "execution_count": 8,
   "metadata": {
    "vscode": {
     "languageId": "r"
    }
   },
   "outputs": [
    {
     "data": {
      "text/html": [
       "0.049"
      ],
      "text/latex": [
       "0.049"
      ],
      "text/markdown": [
       "0.049"
      ],
      "text/plain": [
       "[1] 0.049"
      ]
     },
     "metadata": {},
     "output_type": "display_data"
    },
    {
     "data": {
      "text/html": [
       "0.951"
      ],
      "text/latex": [
       "0.951"
      ],
      "text/markdown": [
       "0.951"
      ],
      "text/plain": [
       "[1] 0.951"
      ]
     },
     "metadata": {},
     "output_type": "display_data"
    }
   ],
   "source": [
    "LogPost.1<-LogLik(x,theta.1,n)+LogPrior.1\n",
    "LogPost.2<-LogLik(x,theta.2,n)+LogPrior.2\n",
    "Post.1<-exp(LogPost.1)\n",
    "Post.2<-exp(LogPost.2)\n",
    "S<-(Post.1+Post.2)\n",
    "Post.1<-Post.1/S\n",
    "Post.2<-Post.2/S\n",
    "round(Post.1,3)\n",
    "round(Post.2,3)"
   ]
  },
  {
   "cell_type": "markdown",
   "metadata": {},
   "source": [
    "Under this prior, the data would support $\\theta=\\theta_2$ over that of the general population, suggesting that the rate of female births is smaller for placenta previa births. This discrete prior, however, is probably too simple so let's consider other non-conjugate priors."
   ]
  },
  {
   "cell_type": "markdown",
   "metadata": {},
   "source": [
    "## Analysis using a nonconjugate prior distribution \n",
    "\n",
    "### _(b) A triangular pdf_"
   ]
  },
  {
   "cell_type": "markdown",
   "metadata": {},
   "source": [
    "In the BDA3 book they consider first conjugate (Beta) priors, just the same procedure as in the two previous Case Studies, which you can follow as a (highly recommended) exercise. Here, instead, we will use their next suggestion,\n",
    "namely the triangular pdf in the figure:\n",
    "\n",
    "<div>\n",
    "<img src=\"./Placenta.previa.Nonconjugate.prior.jpg\" width=\"400\">\n",
    "</div>\n",
    "\n",
    "This pdf has the following specifications:\n",
    "\n",
    "1. It is centered at $m=0.485$ (i.e., $\\theta_1$)\n",
    "\n",
    "2. 40% of the probability mass is outside the interval [m-c,m+c]=[0.385,0.585], c=0.100."
   ]
  },
  {
   "cell_type": "markdown",
   "metadata": {},
   "source": [
    "# Exercise 01\n",
    "\n",
    "From the information above, check that the equation of this pdf is:\n",
    "\n",
    "$$\n",
    "    h(t)=\\left\\{\n",
    "    \\begin{array}{lcl}\n",
    "         a,        &\\text{ for }  &0<t<m-c \\quad\\text{and } m+c<t<1,\\\\\n",
    "         A+b\\cdot t/c,  &\\text{ for }  &t\\in [m-c,c],\\\\ \n",
    "         B-b\\cdot t/c   &\\text{ for }  &t\\in [c,m+c],\\\\ \n",
    "    \\end{array}\n",
    "    \\right.\\mskip80mu t \\in[0,1]\n",
    "$$\n",
    "\n",
    "where $a=0.50$, $b=5.00$ is the height of the central triangle ($a+b$ is the peak ordinate), $A=a+b-(b\\cdot m)/c$,\n",
    "$B<-a+b+(b\\cdot m)/c$.\n",
    "\n",
    "Write a function `h()`to compute the pdf $h(t)$, plot it (verify that the integral on $[0,1]$ is indeed equal to 1),\n",
    "compute its expectation and variance.\n",
    "_Hint: $a$ is determined by the equation $0.40=p_{tails} = a\\cdot(1-2\\cdot c)$, then the area of the upper central isosceles triangle is $c\\cdot b = 1-a =0.5$._\n",
    "\n",
    "<div>\n",
    "<img src=\"./Placenta.previa.Nonconjugate.prior.1.jpg\" width=\"400\">\n",
    "</div>"
   ]
  },
  {
   "cell_type": "code",
   "execution_count": 9,
   "metadata": {
    "vscode": {
     "languageId": "r"
    }
   },
   "outputs": [],
   "source": [
    "# here we define h(t)\n",
    "m<-0.485\n",
    "c<-0.100\n",
    "p.tails<-0.4  \n",
    "a<-0.5\n",
    "b<-5.0\n",
    "A<-a+b-(b*m)/c\n",
    "B<-a+b+(b*m)/c\n",
    "h<-function(t){return(a*(t>=0)*(t<m-c)+a*(t>m+c)*(t<=1)+(A+b*t/c)*(t>m-c)*(t<m)+(B-b*t/c)*(t>m)*(t<m+c))}"
   ]
  },
  {
   "cell_type": "markdown",
   "metadata": {},
   "source": [
    "### Discretizing the continuous prior\n",
    "\n",
    "Next we construct a grid of $N$ points $\\mathbf{t}=(t_1,\\dots,t_{N-1})$ on the $[0,1]$. On each interval $[t_{i},t_{i+1}]$, $1\\leq i\\leq N-1$, the probability from the prior pdf, the integral of $h(t)$ on it, is approximated by the rectangle area $h(t_i)\\cdot\\delta$, where $\\delta=1/N$. The discrete r.v. defined by both vectors: values $\\mathbf{t}$ and probabilities $h(\\mathbf{t})\\cdot \\delta$ is a _discretization_ of the continuous r.v. with pdf $h$, a reasonable approximation by a discrete distribution of the given continuous probability distribution. We proceed with this discrete r.v. as in the example above."
   ]
  },
  {
   "cell_type": "code",
   "execution_count": 10,
   "metadata": {
    "vscode": {
     "languageId": "r"
    }
   },
   "outputs": [],
   "source": [
    "n<-980\n",
    "x<-437\n",
    "N<-1000 # number of grid intervals\n",
    "t<-seq(0,1,length=N)\n",
    "t<-t[-N]# remove last point (equal to 1: we want N intervals)"
   ]
  },
  {
   "cell_type": "code",
   "execution_count": 11,
   "metadata": {
    "vscode": {
     "languageId": "r"
    }
   },
   "outputs": [
    {
     "data": {
      "image/png": "[encoded data removed]",
      "text/plain": [
       "Plot with title “Piecewise linear prior”"
      ]
     },
     "metadata": {
      "image/png": {
       "height": 360,
       "width": 360
      }
     },
     "output_type": "display_data"
    }
   ],
   "source": [
    "options(repr.plot.width=6,repr.plot.height=6)\n",
    "u<-seq(0,1,length=N)\n",
    "plot(u,h(u),\"l\",lwd=2,col=\"blue\",xlim=c(0,1),ylim=c(0,5.5),ylab=\"\",main=\"Piecewise linear prior\")\n",
    "abline(h=0,lwd=2,col=\"black\")\n",
    "abline(v=m,lwd=2,col=\"green\")\n",
    "abline(h=a+b,lwd=2,col=\"green\")\n",
    "lines(u,h(u),lwd=2,col=\"blue\")\n",
    "text(-0.01,a+b-0.15,\"a+b\")\n",
    "text(-0.01,a+0.15,\"a\")\n",
    "text(m,-0.15,\"m\")\n",
    "text(m-c-0.01,-0.15,\"m-c\")\n",
    "text(m+c-0.01,-0.15,\"m+c\")"
   ]
  },
  {
   "cell_type": "code",
   "execution_count": 12,
   "metadata": {
    "vscode": {
     "languageId": "r"
    }
   },
   "outputs": [],
   "source": [
    "#\n",
    "# Lik and LogLik are the Bernoulli quantities defined above\n",
    "# uncomment only one of the following three lines:\n",
    "# Use plain likelihood or use logs and, in this case there is the alternative\n",
    "# to use the dbinom() function (which we expect has been thoughtfully and robustly designed)\n",
    "#\n",
    "# Uncomment only one of the three statements:\n",
    "# 1) Plain posterior\n",
    "# nnpost<-Lik(x,t,n)*h(t)\n",
    "# 2) Log posterior\n",
    "log.nnpost<-LogLik(x,t,n)+log(h(t))\n",
    "# 3) Log posterior using dbinom\n",
    "# log.nnpost<-dbinom(x,size=n,prob=t,log=TRUE)+log(h(t))\n",
    "#\n",
    "nnpost<-exp(log.nnpost)"
   ]
  },
  {
   "cell_type": "markdown",
   "metadata": {},
   "source": [
    "We can now normalize the PMF using the sum and obtain the CDF by taking the cumulative sum:"
   ]
  },
  {
   "cell_type": "code",
   "execution_count": 14,
   "metadata": {
    "vscode": {
     "languageId": "r"
    }
   },
   "outputs": [],
   "source": [
    "#\n",
    "# NB. We do not bother to write delta=1/N in the probability values h(t)*delta. Furthermore,\n",
    "# dbinom() is a multiple of Lik (times the combinatorial coefficient). All these constants\n",
    "# will be taken care of when normalizing.\n",
    "#\n",
    "# Then these non normalized values, after normalized to unit sum, will be the pmf of a discretization of\n",
    "# the posterior distribution.\n",
    "#\n",
    "dpost<-nnpost/sum(nnpost) # pmf\n",
    "ppost<-c(0,cumsum(dpost)) # cdf"
   ]
  },
  {
   "cell_type": "markdown",
   "metadata": {},
   "source": [
    "From this pmf/cdf for a discretization of the posterior pdf we can obtain any needed posterior quantity: posterior quantiles, in particular the posterior median, a 95% credible interval, the MAP and posterior expectation estimators of $\\theta$, etc."
   ]
  },
  {
   "cell_type": "code",
   "execution_count": 16,
   "metadata": {
    "vscode": {
     "languageId": "r"
    }
   },
   "outputs": [
    {
     "data": {
      "image/png": "[encoded data removed]",
      "text/plain": [
       "Plot with title “Posterior cdf”"
      ]
     },
     "metadata": {
      "image/png": {
       "height": 420,
       "width": 840
      }
     },
     "output_type": "display_data"
    }
   ],
   "source": [
    "options(repr.plot.width=14,repr.plot.height=7)\n",
    "old.par<-par(mfrow=c(1,2))\n",
    "# pmf\n",
    "plot(t,dpost,\"l\",lwd=2.5,col=\"blue\",xlim=c(0,1),ylim=c(0,0.05),ylab=\"\",main=\"Posterior pmf\")\n",
    "abline(h=0,lwd=2,col=\"black\")\n",
    "abline(v=m,lwd=2,col=\"green\")\n",
    "abline(h=a+b,lwd=2,col=\"green\")\n",
    "lines(t,dpost,lwd=2.5,col=\"blue\")\n",
    "text(-0.01,a+b-0.15,\"a+b\")\n",
    "text(-0.01,a+0.15,\"a\")\n",
    "text(m,-0.15,\"m\")\n",
    "text(m-c-0.01,-0.15,\"m-c\")\n",
    "text(m+c-0.01,-0.15,\"m+c\")\n",
    "# cdf\n",
    "plot(c(0,t),ppost,\"l\",lwd=2.5,col=\"blue\",xlim=c(0,1),ylim=c(0,1.01),ylab=\"\",main=\"Posterior cdf\")\n",
    "abline(h=0,lwd=2,col=\"black\")\n",
    "abline(v=m,lwd=2,col=\"green\")\n",
    "abline(h=a+b,lwd=2,col=\"green\")\n",
    "lines(c(0,t),ppost,lwd=2.5,col=\"blue\")\n",
    "text(-0.01,a+b-0.15,\"a+b\")\n",
    "text(-0.01,a+0.15,\"a\")\n",
    "text(m,-0.15,\"m\")\n",
    "text(m-c-0.01,-0.15,\"m-c\")\n",
    "text(m+c-0.01,-0.15,\"m+c\")\n",
    "par(old.par)"
   ]
  },
  {
   "cell_type": "markdown",
   "metadata": {},
   "source": [
    "# Exercise 02 - Further computations"
   ]
  },
  {
   "cell_type": "markdown",
   "metadata": {},
   "source": [
    "## 02.01."
   ]
  },
  {
   "cell_type": "markdown",
   "metadata": {},
   "source": [
    "Compute the posterior pdf, and both prior and posterior predictor pmf for the placenta previa problem, using a conjugate $\\textrm{Beta}(\\alpha,\\beta)$ prior, for several values of the parameters, obtaining for each of them a 95% (centered) credible interval and the MAP and posterior expectation estimators of $\\theta$. In particular, reproduce Figure 2.3 and Table 2.1 in BDA3. Do the same for those $\\alpha_0$ and $\\beta_0$ such that $\\textrm{Beta}(\\alpha_0,\\beta_0)$ has the same expectation and variance than the piecewise linear nonconjugate prior. Compare the posterior quantities with both priors. "
   ]
  },
  {
   "cell_type": "markdown",
   "metadata": {},
   "source": [
    "## 02.02."
   ]
  },
  {
   "cell_type": "markdown",
   "metadata": {},
   "source": [
    "Simulate the prior predictive pmf with the nonconjugate piecewise linear pdf. Do it in both possible ways: (1) Sample from $h$ by the inverse transformation method and (2) Sample from its discretization. \n",
    "\n",
    "Summarize the resulting simulated sample: plot the empirical pmf, compute median, mode, expectation, standard deviation. Compare the results with those obtained from the conjugate prior $\\textrm{Beta}(\\alpha_0,\\beta_0)$. "
   ]
  },
  {
   "cell_type": "markdown",
   "metadata": {},
   "source": [
    "## 02.03."
   ]
  },
  {
   "cell_type": "markdown",
   "metadata": {},
   "source": [
    "Simulate the posterior predictive pmf (given the observed data of 437 female births from 980 placenta previa births) with the nonconjugate piecewise linear pdf. Sample from the the discretization of the posterior pdf as in Exercise 1.\n",
    "\n",
    "Summarize the resulting simulated sample: plot the empirical pmf, compute median, mode, expectation, standard deviation. Compare the results with those obtained from the conjugate prior $\\textrm{Beta}(\\alpha_0,\\beta_0)$."
   ]
  },
  {
   "cell_type": "code",
   "execution_count": null,
   "metadata": {
    "vscode": {
     "languageId": "r"
    }
   },
   "outputs": [],
   "source": []
  }
 ],
 "metadata": {
  "kernelspec": {
   "display_name": "R",
   "language": "R",
   "name": "ir"
  },
  "language_info": {
   "codemirror_mode": "r",
   "file_extension": ".r",
   "mimetype": "text/x-r-source",
   "name": "R",
   "pygments_lexer": "r",
   "version": "4.3.1"
  }
 },
 "nbformat": 4,
 "nbformat_minor": 4
}
