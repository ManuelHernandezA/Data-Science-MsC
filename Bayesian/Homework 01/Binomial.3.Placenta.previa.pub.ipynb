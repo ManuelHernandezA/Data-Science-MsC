{
 "cells": [
  {
   "cell_type": "markdown",
   "metadata": {},
   "source": [
    "# Binomial model - Case studies"
   ]
  },
  {
   "cell_type": "markdown",
   "metadata": {},
   "source": [
    "_Adapted from Josep Fortiana (2023-03-13) by Jordi Abante (2024-03-11)_"
   ]
  },
  {
   "cell_type": "markdown",
   "metadata": {},
   "source": [
    "# Case study 3: Placenta previa"
   ]
  },
  {
   "cell_type": "markdown",
   "metadata": {},
   "source": [
    "A classical problem from the book by Andrew Gelman and others, _Bayesian Data Analysis - Third edition_ **(BDA3),** pag. 37."
   ]
  },
  {
   "cell_type": "markdown",
   "metadata": {},
   "source": [
    "Placenta previa is a problem in pregnancy where the placenta implants low on the uterus, potentially obstructing the birth canal. An early study concerning the sex of placenta previa births in Germany found that of a total of 980 births, 437 were female. How much evidence does this provide for the claim that the proportion of female births in the population of placenta previa births is less than 0.485, the proportion of female births in the general population?\n",
    "\n",
    "We know that: \n",
    "\n",
    "1. The proportion of female births in this population is 48.5\\%. \n",
    "\n",
    "2. A study of 980 placenta previa births found that 437 (44.6\\%) of them were female. \n",
    "\n",
    "How much evidence does this provide for the claim that the proportion of female births in the population of placenta previa\n",
    "births is is less than 0.485?"
   ]
  },
  {
   "cell_type": "markdown",
   "metadata": {},
   "source": [
    "## Analysis using a nonconjugate prior distribution \n",
    "\n",
    "### _(a) A discrete prior_"
   ]
  },
  {
   "cell_type": "markdown",
   "metadata": {},
   "source": [
    "In the BDA3 book they consider conjugate (Beta) priors, just as in the previous two Case Studies. Here, instead, we will use their next suggestion, a nonconjugate prior. As a first stage, as a sort of springboard, we take a very simple, discrete prior. To this end we add a fictitious historical proportion (from another state, say) of 45.0%. We assume a priori that both historical figures are equally probable."
   ]
  },
  {
   "cell_type": "markdown",
   "metadata": {},
   "source": [
    "### The discrete prior\n",
    "\n",
    "Thus, our discrete prior is:\n",
    "\n",
    "$$\n",
    "\t\\begin{array}{lcl}\n",
    "\t\\theta_{1}=0.485\t&\\text{ with probability }\t&\\pi_{1}\\equiv P(\\theta_{1})=0.5,\\\\\n",
    "\t\\theta_{2}=0.45\t\t&\\text{ with probability }\t&\\pi_{2}\\equiv P(\\theta_{2})=0.5.\n",
    "\t\\end{array}\n",
    "$$"
   ]
  },
  {
   "cell_type": "code",
   "execution_count": 1,
   "metadata": {
    "vscode": {
     "languageId": "r"
    }
   },
   "outputs": [],
   "source": [
    "# Prior information\n",
    "theta.1<-0.485\n",
    "theta.2<-0.45\n",
    "Prior.1<-0.5\n",
    "Prior.2<-0.5\n",
    "LogPrior.1<-log(Prior.1)\n",
    "LogPrior.2<-log(Prior.2)"
   ]
  },
  {
   "cell_type": "markdown",
   "metadata": {},
   "source": [
    "### Observed data"
   ]
  },
  {
   "cell_type": "code",
   "execution_count": 2,
   "metadata": {
    "vscode": {
     "languageId": "r"
    }
   },
   "outputs": [
    {
     "data": {
      "text/html": [
       "0.446"
      ],
      "text/latex": [
       "0.446"
      ],
      "text/markdown": [
       "0.446"
      ],
      "text/plain": [
       "[1] 0.446"
      ]
     },
     "metadata": {},
     "output_type": "display_data"
    }
   ],
   "source": [
    "# Observed data\n",
    "n<-980\n",
    "x<-437\n",
    "theta.obs<-x/n\n",
    "round(theta.obs,3)"
   ]
  },
  {
   "cell_type": "markdown",
   "metadata": {},
   "source": [
    "### Likelihood\n",
    "\n",
    "Likelihood is the usual binomial one:\n",
    "\n",
    "$$\n",
    "    f(x|\\theta)=\\theta^{x}\\cdot(1-\\theta)^{(n-x)}.\n",
    "$$\n",
    "\n",
    "In actual computations it may be safer to use its logarithm, _Log-likelihood,_ to avoid products of very large and very small quantities."
   ]
  },
  {
   "cell_type": "code",
   "execution_count": 3,
   "metadata": {
    "vscode": {
     "languageId": "r"
    }
   },
   "outputs": [],
   "source": [
    "Lik<-function(x,theta,n){theta^x*(1-theta)^(n-x)}\n",
    "LogLik<-function(x,theta,n){x*log(theta)+(n-x)*log(1-theta)}"
   ]
  },
  {
   "cell_type": "markdown",
   "metadata": {},
   "source": [
    "Note that the log of the unnormalized posterior ($p(\\theta|x)\\propto p(x|\\theta)p(\\theta)=p_u(\\theta|x)$) can be written as:\n",
    "$$\n",
    "\\log p_u(\\theta|x) = \\log (p(x|\\theta)\\cdot p(\\theta))  = \\log p(x|\\theta) + \\log p(\\theta)\n",
    "$$"
   ]
  },
  {
   "cell_type": "markdown",
   "metadata": {},
   "source": [
    "### Posterior\n",
    "\n",
    "Likelihood, joint pdf and their logarithms. Bayes formula needs the x marginal in the denominator to give the posterior pdf, but we can circumvent this step by normalizing to one the _non-normalized_ posterior pdf. Observe that, consistently with the data, the posterior probability of 0.45 is much higher than its prior value:"
   ]
  },
  {
   "cell_type": "code",
   "execution_count": 4,
   "metadata": {
    "vscode": {
     "languageId": "r"
    }
   },
   "outputs": [
    {
     "data": {
      "text/html": [
       "0.049"
      ],
      "text/latex": [
       "0.049"
      ],
      "text/markdown": [
       "0.049"
      ],
      "text/plain": [
       "[1] 0.049"
      ]
     },
     "metadata": {},
     "output_type": "display_data"
    },
    {
     "data": {
      "text/html": [
       "0.951"
      ],
      "text/latex": [
       "0.951"
      ],
      "text/markdown": [
       "0.951"
      ],
      "text/plain": [
       "[1] 0.951"
      ]
     },
     "metadata": {},
     "output_type": "display_data"
    }
   ],
   "source": [
    "LogPost.1<-LogLik(x,theta.1,n)+LogPrior.1\n",
    "LogPost.2<-LogLik(x,theta.2,n)+LogPrior.2\n",
    "Post.1<-exp(LogPost.1)\n",
    "Post.2<-exp(LogPost.2)\n",
    "S<-(Post.1+Post.2)\n",
    "Post.1<-Post.1/S\n",
    "Post.2<-Post.2/S\n",
    "round(Post.1,3)\n",
    "round(Post.2,3)"
   ]
  },
  {
   "cell_type": "markdown",
   "metadata": {},
   "source": [
    "Under this prior, the data would support $\\theta=\\theta_2$ over that of the general population, suggesting that the rate of female births is smaller for placenta previa births. This discrete prior, however, is probably too simple so let's consider other non-conjugate priors."
   ]
  },
  {
   "cell_type": "markdown",
   "metadata": {},
   "source": [
    "## Analysis using a nonconjugate prior distribution \n",
    "\n",
    "### _(b) A triangular pdf_"
   ]
  },
  {
   "cell_type": "markdown",
   "metadata": {},
   "source": [
    "In the BDA3 book they consider first conjugate (Beta) priors, just the same procedure as in the two previous Case Studies, which you can follow as a (highly recommended) exercise. Here, instead, we will use their next suggestion,\n",
    "namely the triangular pdf in the figure:\n",
    "\n",
    "<div>\n",
    "<img src=\"./Placenta.previa.Nonconjugate.prior.jpg\" width=\"400\">\n",
    "</div>\n",
    "\n",
    "This pdf has the following specifications:\n",
    "\n",
    "1. It is centered at $m=0.485$ (i.e., $\\theta_1$)\n",
    "\n",
    "2. 40% of the probability mass is outside the interval [m-c,m+c]=[0.385,0.585], c=0.100."
   ]
  },
  {
   "cell_type": "markdown",
   "metadata": {},
   "source": [
    "# Exercise 01\n",
    "\n",
    "From the information above, check that the equation of this pdf is:\n",
    "\n",
    "$$\n",
    "    h(t)=\\left\\{\n",
    "    \\begin{array}{lcl}\n",
    "         a,        &\\text{ for }  &0<t<m-c \\quad\\text{and } m+c<t<1,\\\\\n",
    "         A+b\\cdot t/c,  &\\text{ for }  &t\\in [m-c,c],\\\\ \n",
    "         B-b\\cdot t/c   &\\text{ for }  &t\\in [c,m+c],\\\\ \n",
    "    \\end{array}\n",
    "    \\right.\\mskip80mu t \\in[0,1]\n",
    "$$\n",
    "\n",
    "where $a=0.50$, $b=5.00$ is the height of the central triangle ($a+b$ is the peak ordinate), $A=a+b-(b\\cdot m)/c$,\n",
    "$B<-a+b+(b\\cdot m)/c$.\n",
    "\n",
    "Write a function `h()`to compute the pdf $h(t)$, plot it (verify that the integral on $[0,1]$ is indeed equal to 1),\n",
    "compute its expectation and variance.\n",
    "_Hint: $a$ is determined by the equation $0.40=p_{tails} = a\\cdot(1-2\\cdot c)$, then the area of the upper central isosceles triangle is $c\\cdot b = 1-a =0.5$._\n",
    "\n",
    "<div>\n",
    "<img src=\"./Placenta.previa.Nonconjugate.prior.1.jpg\" width=\"400\">\n",
    "</div>"
   ]
  },
  {
   "cell_type": "code",
   "execution_count": 227,
   "metadata": {
    "vscode": {
     "languageId": "r"
    }
   },
   "outputs": [],
   "source": [
    "# here we define h(t)\n",
    "m<-0.485\n",
    "c<-0.100\n",
    "p.tails<-0.4  \n",
    "a<-0.5\n",
    "b<-5.0\n",
    "A<-a+b-(b*m)/c\n",
    "B<-a+b+(b*m)/c\n",
    "h<-function(t){return(a*(t>=0)*(t<m-c)+a*(t>m+c)*(t<=1)+(A+b*t/c)*(t>m-c)*(t<m)+(B-b*t/c)*(t>m)*(t<m+c))}"
   ]
  },
  {
   "cell_type": "markdown",
   "metadata": {},
   "source": [
    "### Discretizing the continuous prior\n",
    "\n",
    "Next we construct a grid of $N$ points $\\mathbf{t}=(t_1,\\dots,t_{N-1})$ on the $[0,1]$. On each interval $[t_{i},t_{i+1}]$, $1\\leq i\\leq N-1$, the probability from the prior pdf, the integral of $h(t)$ on it, is approximated by the rectangle area $h(t_i)\\cdot\\delta$, where $\\delta=1/N$. The discrete r.v. defined by both vectors: values $\\mathbf{t}$ and probabilities $h(\\mathbf{t})\\cdot \\delta$ is a _discretization_ of the continuous r.v. with pdf $h$, a reasonable approximation by a discrete distribution of the given continuous probability distribution. We proceed with this discrete r.v. as in the example above."
   ]
  },
  {
   "cell_type": "code",
   "execution_count": 228,
   "metadata": {
    "vscode": {
     "languageId": "r"
    }
   },
   "outputs": [],
   "source": [
    "n<-980\n",
    "x<-437\n",
    "N<-1000 # number of grid intervals\n",
    "t<-seq(0,1,length=N)\n",
    "t<-t[-N]# remove last point (equal to 1: we want N intervals)"
   ]
  },
  {
   "cell_type": "code",
   "execution_count": 229,
   "metadata": {
    "vscode": {
     "languageId": "r"
    }
   },
   "outputs": [
    {
     "data": {
      "image/png": "[encoded data removed]",
      "text/plain": [
       "Plot with title \"Piecewise linear prior\""
      ]
     },
     "metadata": {},
     "output_type": "display_data"
    }
   ],
   "source": [
    "options(repr.plot.width=6,repr.plot.height=6)\n",
    "u<-seq(0,1,length=N)\n",
    "plot(u,h(u),\"l\",lwd=2,col=\"blue\",xlim=c(0,1),ylim=c(0,5.5),ylab=\"\",main=\"Piecewise linear prior\")\n",
    "abline(h=0,lwd=2,col=\"black\")\n",
    "abline(v=m,lwd=2,col=\"green\")\n",
    "abline(h=a+b,lwd=2,col=\"green\")\n",
    "lines(u,h(u),lwd=2,col=\"blue\")\n",
    "text(-0.01,a+b-0.15,\"a+b\")\n",
    "text(-0.01,a+0.15,\"a\")\n",
    "text(m,-0.15,\"m\")\n",
    "text(m-c-0.01,-0.15,\"m-c\")\n",
    "text(m+c-0.01,-0.15,\"m+c\")"
   ]
  },
  {
   "cell_type": "code",
   "execution_count": 230,
   "metadata": {
    "vscode": {
     "languageId": "r"
    }
   },
   "outputs": [],
   "source": [
    "#\n",
    "# Lik and LogLik are the Bernoulli quantities defined above\n",
    "# uncomment only one of the following three lines:\n",
    "# Use plain likelihood or use logs and, in this case there is the alternative\n",
    "# to use the dbinom() function (which we expect has been thoughtfully and robustly designed)\n",
    "#\n",
    "# Uncomment only one of the three statements:\n",
    "# 1) Plain posterior\n",
    "# nnpost<-Lik(x,t,n)*h(t)\n",
    "# 2) Log posterior\n",
    "log.nnpost<-LogLik(x,t,n)+log(h(t))\n",
    "# 3) Log posterior using dbinom\n",
    "# log.nnpost<-dbinom(x,size=n,prob=t,log=TRUE)+log(h(t))\n",
    "#\n",
    "nnpost<-exp(log.nnpost)"
   ]
  },
  {
   "cell_type": "markdown",
   "metadata": {},
   "source": [
    "We can now normalize the PMF using the sum and obtain the CDF by taking the cumulative sum:"
   ]
  },
  {
   "cell_type": "code",
   "execution_count": 231,
   "metadata": {
    "vscode": {
     "languageId": "r"
    }
   },
   "outputs": [],
   "source": [
    "#\n",
    "# NB. We do not bother to write delta=1/N in the probability values h(t)*delta. Furthermore,\n",
    "# dbinom() is a multiple of Lik (times the combinatorial coefficient). All these constants\n",
    "# will be taken care of when normalizing.\n",
    "#\n",
    "# Then these non normalized values, after normalized to unit sum, will be the pmf of a discretization of\n",
    "# the posterior distribution.\n",
    "#\n",
    "dpost<-nnpost/sum(nnpost) # pmf\n",
    "ppost<-c(0,cumsum(dpost)) # cdf"
   ]
  },
  {
   "cell_type": "markdown",
   "metadata": {},
   "source": [
    "From this pmf/cdf for a discretization of the posterior pdf we can obtain any needed posterior quantity: posterior quantiles, in particular the posterior median, a 95% credible interval, the MAP and posterior expectation estimators of $\\theta$, etc."
   ]
  },
  {
   "cell_type": "code",
   "execution_count": 235,
   "metadata": {
    "vscode": {
     "languageId": "r"
    }
   },
   "outputs": [
    {
     "data": {
      "image/png": "[encoded data removed]",
      "text/plain": [
       "Plot with title \"Posterior cdf\""
      ]
     },
     "metadata": {},
     "output_type": "display_data"
    }
   ],
   "source": [
    "options(repr.plot.width=14,repr.plot.height=7)\n",
    "old.par<-par(mfrow=c(1,2))\n",
    "# pmf\n",
    "plot(t,dpost,\"l\",lwd=2.5,col=\"blue\",xlim=c(0,1),ylim=c(0,0.05),ylab=\"\",main=\"Posterior pmf\")\n",
    "abline(h=0,lwd=2,col=\"black\")\n",
    "abline(v=m,lwd=2,col=\"green\")\n",
    "abline(h=a+b,lwd=2,col=\"green\")\n",
    "lines(t,dpost,lwd=2.5,col=\"blue\")\n",
    "text(-0.01,a+b-0.15,\"a+b\")\n",
    "text(-0.01,a+0.15,\"a\")\n",
    "text(m,-0.15,\"m\")\n",
    "text(m-c-0.01,-0.15,\"m-c\")\n",
    "text(m+c-0.01,-0.15,\"m+c\")\n",
    "# cdf\n",
    "plot(c(0,t),ppost,\"l\",lwd=2.5,col=\"blue\",xlim=c(0,1),ylim=c(0,1.01),ylab=\"\",main=\"Posterior cdf\")\n",
    "abline(h=0,lwd=2,col=\"black\")\n",
    "abline(v=m,lwd=2,col=\"green\")\n",
    "abline(h=a+b,lwd=2,col=\"green\")\n",
    "lines(c(0,t),ppost,lwd=2.5,col=\"blue\")\n",
    "text(-0.01,a+b-0.15,\"a+b\")\n",
    "text(-0.01,a+0.15,\"a\")\n",
    "text(m,-0.15,\"m\")\n",
    "text(m-c-0.01,-0.15,\"m-c\")\n",
    "text(m+c-0.01,-0.15,\"m+c\")\n",
    "par(old.par)"
   ]
  },
  {
   "cell_type": "markdown",
   "metadata": {},
   "source": [
    "# Exercise 02 - Further computations"
   ]
  },
  {
   "cell_type": "code",
   "execution_count": 424,
   "metadata": {},
   "outputs": [],
   "source": [
    "# here we define h(t)\n",
    "m<-0.485\n",
    "c<-0.100\n",
    "p.tails<-0.4  \n",
    "a<-0.5\n",
    "b<-5.0\n",
    "A<-a+b-(b*m)/c\n",
    "B<-a+b+(b*m)/c\n",
    "h<-function(t){return(a*(t>=0)*(t<m-c)+a*(t>m+c)*(t<=1)+(A+b*t/c)*(t>m-c)*(t<m)+(B-b*t/c)*(t>m)*(t<m+c))}"
   ]
  },
  {
   "cell_type": "markdown",
   "metadata": {},
   "source": [
    "## 02.01."
   ]
  },
  {
   "cell_type": "markdown",
   "metadata": {},
   "source": [
    "Compute the posterior pdf, and both prior and posterior predictor pmf for the placenta previa problem, using a conjugate $\\textrm{Beta}(\\alpha,\\beta)$ prior, for several values of the parameters, obtaining for each of them a 95% (centered) credible interval and the MAP and posterior expectation estimators of $\\theta$. In particular, reproduce Figure 2.3 and Table 2.1 in BDA3. Do the same for those $\\alpha_0$ and $\\beta_0$ such that $\\textrm{Beta}(\\alpha_0,\\beta_0)$ has the same expectation and variance than the piecewise linear nonconjugate prior. Compare the posterior quantities with both priors. "
   ]
  },
  {
   "cell_type": "code",
   "execution_count": 423,
   "metadata": {},
   "outputs": [
    {
     "name": "stdout",
     "output_type": "stream",
     "text": [
      "[1] \"For alpha 1.00 and beta 1.00 with N=1000\"\n",
      "[1] \"    ST Dev: 0.016000\"\n",
      "[1] \"    Median: 0.445741\"\n",
      "[1] \"    95% Interval: [0.414861, 0.479350]\"\n",
      "[1] \"    Simulated MAP: 0.446669\"\n",
      "[1] \"    Expectation of theta: 0.446029\"\n"
     ]
    },
    {
     "data": {
      "image/png": "[encoded data removed]",
      "text/plain": [
       "Plot with title \"Histogram of Posterior Predictive Distribution\""
      ]
     },
     "metadata": {},
     "output_type": "display_data"
    },
    {
     "name": "stdout",
     "output_type": "stream",
     "text": [
      "[1] \"For alpha 0.97 and beta 1.03 with N=1000\"\n",
      "[1] \"    ST Dev: 0.016916\"\n",
      "[1] \"    Median: 0.445012\"\n",
      "[1] \"    95% Interval: [0.413676, 0.479914]\"\n",
      "[1] \"    Simulated MAP: 0.443646\"\n",
      "[1] \"    Expectation of theta: 0.445998\"\n"
     ]
    },
    {
     "data": {
      "image/png": "[encoded data removed]",
      "text/plain": [
       "Plot with title \"Histogram of Posterior Predictive Distribution\""
      ]
     },
     "metadata": {},
     "output_type": "display_data"
    },
    {
     "name": "stdout",
     "output_type": "stream",
     "text": [
      "[1] \"For alpha 2.42 and beta 2.58 with N=1000\"\n",
      "[1] \"    ST Dev: 0.016272\"\n",
      "[1] \"    Median: 0.444810\"\n",
      "[1] \"    95% Interval: [0.414649, 0.478476]\"\n",
      "[1] \"    Simulated MAP: 0.449638\"\n",
      "[1] \"    Expectation of theta: 0.446117\"\n"
     ]
    },
    {
     "data": {
      "image/png": "[encoded data removed]",
      "text/plain": [
       "Plot with title \"Histogram of Posterior Predictive Distribution\""
      ]
     },
     "metadata": {},
     "output_type": "display_data"
    },
    {
     "name": "stdout",
     "output_type": "stream",
     "text": [
      "[1] \"For alpha 4.85 and beta 5.15 with N=1000\"\n",
      "[1] \"    ST Dev: 0.015905\"\n",
      "[1] \"    Median: 0.445878\"\n",
      "[1] \"    95% Interval: [0.416308, 0.477615]\"\n",
      "[1] \"    Simulated MAP: 0.446047\"\n",
      "[1] \"    Expectation of theta: 0.446313\"\n"
     ]
    },
    {
     "data": {
      "image/png": "[encoded data removed]",
      "text/plain": [
       "Plot with title \"Histogram of Posterior Predictive Distribution\""
      ]
     },
     "metadata": {},
     "output_type": "display_data"
    },
    {
     "name": "stdout",
     "output_type": "stream",
     "text": [
      "[1] \"For alpha 9.70 and beta 10.30 with N=1000\"\n",
      "[1] \"    ST Dev: 0.015704\"\n",
      "[1] \"    Median: 0.447046\"\n",
      "[1] \"    95% Interval: [0.416619, 0.478284]\"\n",
      "[1] \"    Simulated MAP: 0.448226\"\n",
      "[1] \"    Expectation of theta: 0.446700\"\n"
     ]
    },
    {
     "data": {
      "image/png": "[encoded data removed]",
      "text/plain": [
       "Plot with title \"Histogram of Posterior Predictive Distribution\""
      ]
     },
     "metadata": {},
     "output_type": "display_data"
    },
    {
     "name": "stdout",
     "output_type": "stream",
     "text": [
      "[1] \"For alpha 48.50 and beta 51.50 with N=1000\"\n",
      "[1] \"    ST Dev: 0.015249\"\n",
      "[1] \"    Median: 0.450186\"\n",
      "[1] \"    95% Interval: [0.420508, 0.481646]\"\n",
      "[1] \"    Simulated MAP: 0.449170\"\n",
      "[1] \"    Expectation of theta: 0.449537\"\n"
     ]
    },
    {
     "data": {
      "image/png": "[encoded data removed]",
      "text/plain": [
       "Plot with title \"Histogram of Posterior Predictive Distribution\""
      ]
     },
     "metadata": {},
     "output_type": "display_data"
    },
    {
     "name": "stdout",
     "output_type": "stream",
     "text": [
      "[1] \"For alpha 97.00 and beta 103.00 with N=1000\"\n",
      "[1] \"    ST Dev: 0.014341\"\n",
      "[1] \"    Median: 0.452447\"\n",
      "[1] \"    95% Interval: [0.423213, 0.480030]\"\n",
      "[1] \"    Simulated MAP: 0.453776\"\n",
      "[1] \"    Expectation of theta: 0.452542\"\n"
     ]
    },
    {
     "data": {
      "image/png": "[encoded data removed]",
      "text/plain": [
       "Plot with title \"Histogram of Posterior Predictive Distribution\""
      ]
     },
     "metadata": {},
     "output_type": "display_data"
    }
   ],
   "source": [
    "calculate_postpdf <- function(p1, p2, N){\n",
    "    # p1 is alpha/(alpha+beta) and p2 is alpha+beta\n",
    "    alpha <- p1*p2\n",
    "    beta <-p2-alpha\n",
    "\n",
    "    # Observations\n",
    "    n<-980\n",
    "    n1<-437\n",
    "    x<-seq(0,1,by=0.001)\n",
    "    # Prior pmf, we sample it with the previously calculated alpha and beta\n",
    "    dprior<-rbeta(N, alpha, beta)\n",
    "    # Posterior pmf, we add the observations for the posterior pmf\n",
    "    alphapost <- alpha+n1\n",
    "    betapost <- beta+n-n1\n",
    "    dpost<-rbeta(N, alpha+n1, beta+n-n1)\n",
    "    \n",
    "    mean_post <- median(dpost) # Calculate the satistical moments,median and standard deviation\n",
    "    stdev_post <- sd(dpost)\n",
    "    \n",
    "    # Prior predictive pmf\n",
    "    nsim <- 1000\n",
    "    dprior_pred<-rep(NA,nsim)\n",
    "    for(i in 1:nsim){\n",
    "        theta<-rbeta(1,shape1=alpha,shape2=beta) # sample the prior from the beta function of the original alpha and beta\n",
    "        dprior_pred[i]<-rbinom(1,size=N,prob=theta)/N # sample the binomial with the thetas\n",
    "    }\n",
    "\n",
    "    # MAP\n",
    "    dpost.dens <- density(dpost)\n",
    "    MAP <- dpost.dens$x[which.max(dpost.dens$y)] # Get the maximum a posteriori value from the density\n",
    "    # Posterior expectation of theta\n",
    "    lamb <- n/(alpha+beta+n) # Get the expectation of theta from the formula\n",
    "    expect_theta <- lamb*(n1/n)+(1-lamb)*(alpha)/(alpha+beta)\n",
    "    \n",
    "    # Plotting\n",
    "    options(repr.plot.width=8,repr.plot.height=8) # options for plot size\n",
    "    layout(matrix(1:3, nrow = 3)) # options for layout\n",
    "    # plot histograms and save the posterior histogram\n",
    "    dpost_h <- hist(dpost, breaks=100, freq=FALSE, col=rgb(0,0,1,1/4), xlim = c(0.2, 0.7), xlab=expression(theta), main=\"Histogram of Posterior PMF\", ylab=\"Density\")\n",
    "    hist(dprior_pred, breaks=100, freq=FALSE, col=rgb(1,0,0,1/4), xlim = c(min(0.2,min(dprior_pred)), max(0.7,max(dprior_pred))), main=\"Histogram of Prior Predictive Distribution\", xlab=expression(theta), ylab=\"Density\")\n",
    "\n",
    "    # Posterior predictive\n",
    "    nsim <- 1000\n",
    "    dpost_pred<-rep(NA,nsim)\n",
    "    for(i in 1:nsim){\n",
    "        theta<-sample(dpost_h$mids, 1, replace=TRUE, prob=dpost_h$counts) # sample directly from the posterior pmf historgram\n",
    "        dpost_pred[i]<-rbinom(1,size=N,prob=theta)/N # Generate samples for new predictive x\n",
    "    }\n",
    "\n",
    "    hist(dpost_pred, breaks=100, freq=FALSE, col=rgb(0,1,0,1/4), xlim = c(0.2, 0.7), main=\"Histogram of Posterior Predictive Distribution\", xlab=expression(tilde(x)), ylab=\"Density\")\n",
    "    \n",
    "    # Print info\n",
    "    print(sprintf(\"For alpha %.2f and beta %.2f with N=%d\", alpha, beta,N))\n",
    "    print(sprintf(\"    ST Dev: %f\",stdev_post))\n",
    "    print(sprintf(\"    Median: %f\",mean_post))\n",
    "    print(sprintf(\"    95%% Interval: [%f, %f]\",dpost[order(dpost)[25]],dpost[order(dpost)[976]]))\n",
    "    print(sprintf(\"    Simulated MAP: %f\", MAP))\n",
    "    print(sprintf(\"    Expectation of theta: %f\", expect_theta))\n",
    "}\n",
    "\n",
    "# Here we test the different values for alpha and beta using two parameters p1 and p2\n",
    "# Where:\n",
    "# p1 = alpha/(alpha+beta),\n",
    "# p2 = alpha+beta\n",
    "# The last parameter is N for the number of trials for the pmfs\n",
    "calculate_postpdf(0.5,2,1000)\n",
    "calculate_postpdf(0.485,2,1000)\n",
    "calculate_postpdf(0.485,5,1000)\n",
    "calculate_postpdf(0.485,10,1000)\n",
    "calculate_postpdf(0.485,20,1000)\n",
    "calculate_postpdf(0.485,100,1000)\n",
    "calculate_postpdf(0.485,200,1000)"
   ]
  },
  {
   "cell_type": "markdown",
   "metadata": {},
   "source": [
    "As we can see, we created the histograms of the posterior PMF, the prior predictive and the posterior predictive for each alpha-beta pair. We also computed the relevant statistical moments and quatities from the posterior distribution. We also replicated here the figure from the book BDA and the table:\n",
    "| $\\frac{\\alpha}{\\alpha+\\beta}$ | $\\alpha+\\beta$ | Posterior median of $\\theta$ | 95% posterior interval for $\\theta$ |\r\n",
    "|-------------------------------|----------------|------------------------------|-------------------------------------|\r\n",
    "| 0.500                         | 2              | 0.447                        | [0.415, 0.479]                      |\r\n",
    "| 0.485                         | 2              | 0.445                        | [0.414, 0.478]                      |\r\n",
    "| 0.485                         | 5              | 0.446                        | [0.414, 0.480]                      |\r\n",
    "| 0.485                         | 10             | 0.446                        | [0.416, 0.478]                      |\r\n",
    "| 0.485                         | 20             | 0.447                        | [0.417, 0.480]                      |\r\n",
    "| 0.485                         | 100            | 0.450                        | [0.420, 0.478]                      |\r\n",
    "| 0.485                         | 200            | 0.454                        | [0.425, 0.482]                      |   |   |\n"
   ]
  },
  {
   "cell_type": "code",
   "execution_count": 413,
   "metadata": {},
   "outputs": [
    {
     "data": {
      "image/png": "[encoded data removed]",
      "text/plain": [
       "Plot with title \"bold(\"Probability of female birth,\" ~ theta)\""
      ]
     },
     "metadata": {},
     "output_type": "display_data"
    }
   ],
   "source": [
    "n <- 980\n",
    "n1 <- 437\n",
    "alpha <- 1\n",
    "beta <- 1\n",
    "dpost.book<-rbeta(1000, alpha+n1, beta+n-n1) # Get the beta distribution of Beta(348, 544) from the observations + Beta(1,1)\n",
    "dpost.logit <- log(dpost.book/(1-dpost.book)) # Logit transform\n",
    "dpost.maletofemale <- (1-dpost.book)/dpost.book # Male-to-female ratio\n",
    "\n",
    "options(repr.plot.width=8,repr.plot.height=3) # options for plot size\n",
    "layout(matrix(3:1, nrow = 1)) # options for layout\n",
    "color.hists = rgb(0.7,0.7,0.7,1) # color of the histograms\n",
    "hist(dpost.maletofemale, breaks=40, freq=FALSE, col=color.hists, xlim = c(1, 1.6), border=F, main=expression(bold(\"male-to-female sex ratio,\"~phi~\"=(1-\"~theta~\") /\"~theta)),\n",
    "     xlab=\"\",ylab=\"\", axes=F, bty = \"n\")\n",
    "axis(side=1, at=seq(1,1.6, by= 0.2))\n",
    "hist(dpost.logit, breaks=40, freq=FALSE, col=color.hists, xlim = c(-0.5, 0.1), border=F, main=expression(bold(\"Logit transform, logit(\"~theta~\")\")),\n",
    "     xlab=\"\",ylab=\"\", axes=F, bty = \"n\")\n",
    "axis(side=1, at=seq(-0.5, 0.1, by= 0.2))\n",
    "axis(1, at = seq(0.35,0.55, by= 0.05), labels = NA)\n",
    "hist(dpost.book, breaks=40, freq=FALSE, col=color.hists, xlim = c(0.35, 0.55), border=F, main=expression(bold(\"Probability of female birth,\"~theta)),\n",
    "     xlab=\"\", ylab=\"\", axes=F, bty = \"n\")\n",
    "axis(side=1, at=seq(0.35,0.55, by= 0.1))\n",
    "axis(1, at = seq(0.35,0.55, by= 0.05), labels = NA)\n"
   ]
  },
  {
   "cell_type": "code",
   "execution_count": 384,
   "metadata": {},
   "outputs": [
    {
     "data": {
      "text/html": [
       "0.492499873385333"
      ],
      "text/latex": [
       "0.492499873385333"
      ],
      "text/markdown": [
       "0.492499873385333"
      ],
      "text/plain": [
       "[1] 0.4924999"
      ]
     },
     "metadata": {},
     "output_type": "display_data"
    },
    {
     "data": {
      "text/html": [
       "0.0980611814049147"
      ],
      "text/latex": [
       "0.0980611814049147"
      ],
      "text/markdown": [
       "0.0980611814049147"
      ],
      "text/plain": [
       "[1] 0.09806118"
      ]
     },
     "metadata": {},
     "output_type": "display_data"
    }
   ],
   "source": [
    "# Take piecewise prior pmf moments\n",
    "dpost.expectation <- integrate(function(x) {return(x*h(x))}, lower=0, upper=1)$value # Use the integral of x*f(x), where f(x) = h(x) is the piecewise\n",
    "                                                                                     # prior, integrate from 0 to 1 to get E[x]\n",
    "dpost.variance <- integrate(function(x) {return((x^2)*h(x^2))}, lower=0, upper=1)$value - dpost.expectation^2 # Compute the integral E[x^2]-E[x]^2\n",
    "dpost.expectation\n",
    "dpost.variance"
   ]
  },
  {
   "cell_type": "code",
   "execution_count": 422,
   "metadata": {},
   "outputs": [
    {
     "name": "stdout",
     "output_type": "stream",
     "text": [
      "[1] 0.762811\n",
      "[1] 0.7860442\n"
     ]
    },
    {
     "data": {
      "image/png": "[encoded data removed]",
      "text/plain": [
       "Plot with title \"bold(\"Histogram for the Prior with estimated mean and variance\")\""
      ]
     },
     "metadata": {},
     "output_type": "display_data"
    }
   ],
   "source": [
    "# We can estimate the alpha and beta from the formulas for Expectation and Variance for a beta distribution:\n",
    "# E[X] = alpha/(alpha+beta)\n",
    "# Var[X] = (alpha*beta)/((alpha+beta+1)*(alpha+beta)^2)\n",
    "#\n",
    "# Solving for alpha and beta we get:\n",
    "# alpha = ((1-E[X])/(Var[X])-1/(E[X]))*(E[X]^2)\n",
    "# beta = alpha*(1/E[X]-1)\n",
    "alpha.est <- ((1-dpost.expectation)/(dpost.variance)-1/(dpost.expectation))*(dpost.expectation^2)\n",
    "beta.est <- alpha.est*(1/dpost.expectation-1)\n",
    "print(alpha.est)\n",
    "print(beta.est)\n",
    "\n",
    "options(repr.plot.width=8,repr.plot.height=4) # options for plot size\n",
    "dprior_est<-rbeta(100000, alpha.est, beta.est) # Create samples for the prior with the alpha_0 and beta_0\n",
    "hist(dprior_est, breaks=100, freq=FALSE, col=rgb(0,0,1,1/4), xlab=expression(theta), ylab=\"Density\", \n",
    "     main=expression(bold(\"Histogram for the Prior with estimated mean and variance\")))"
   ]
  },
  {
   "cell_type": "markdown",
   "metadata": {},
   "source": [
    "Lastly let's analyse the quantities for the posterior and both priors ($\\beta_0$, $\\alpha_0$; and piecewise prior)."
   ]
  },
  {
   "cell_type": "code",
   "execution_count": 444,
   "metadata": {},
   "outputs": [
    {
     "data": {
      "text/html": [
       "'Quantities for Posterior'"
      ],
      "text/latex": [
       "'Quantities for Posterior'"
      ],
      "text/markdown": [
       "'Quantities for Posterior'"
      ],
      "text/plain": [
       "[1] \"Quantities for Posterior\""
      ]
     },
     "metadata": {},
     "output_type": "display_data"
    },
    {
     "data": {
      "text/html": [
       "'MAP'"
      ],
      "text/latex": [
       "'MAP'"
      ],
      "text/markdown": [
       "'MAP'"
      ],
      "text/plain": [
       "[1] \"MAP\""
      ]
     },
     "metadata": {},
     "output_type": "display_data"
    },
    {
     "data": {
      "text/html": [
       "0.44406"
      ],
      "text/latex": [
       "0.44406"
      ],
      "text/markdown": [
       "0.44406"
      ],
      "text/plain": [
       "[1] 0.44406"
      ]
     },
     "metadata": {},
     "output_type": "display_data"
    },
    {
     "data": {
      "text/html": [
       "'Expectation'"
      ],
      "text/latex": [
       "'Expectation'"
      ],
      "text/markdown": [
       "'Expectation'"
      ],
      "text/plain": [
       "[1] \"Expectation\""
      ]
     },
     "metadata": {},
     "output_type": "display_data"
    },
    {
     "data": {
      "text/html": [
       "0.4459"
      ],
      "text/latex": [
       "0.4459"
      ],
      "text/markdown": [
       "0.4459"
      ],
      "text/plain": [
       "[1] 0.4459"
      ]
     },
     "metadata": {},
     "output_type": "display_data"
    },
    {
     "data": {
      "text/html": [
       "'Variance'"
      ],
      "text/latex": [
       "'Variance'"
      ],
      "text/markdown": [
       "'Variance'"
      ],
      "text/plain": [
       "[1] \"Variance\""
      ]
     },
     "metadata": {},
     "output_type": "display_data"
    },
    {
     "data": {
      "text/html": [
       "0.00027"
      ],
      "text/latex": [
       "0.00027"
      ],
      "text/markdown": [
       "0.00027"
      ],
      "text/plain": [
       "[1] 0.00027"
      ]
     },
     "metadata": {},
     "output_type": "display_data"
    },
    {
     "data": {
      "text/html": [
       "'Quartiles'"
      ],
      "text/latex": [
       "'Quartiles'"
      ],
      "text/markdown": [
       "'Quartiles'"
      ],
      "text/plain": [
       "[1] \"Quartiles\""
      ]
     },
     "metadata": {},
     "output_type": "display_data"
    },
    {
     "data": {
      "text/html": [
       "<dl class=dl-horizontal>\n",
       "\t<dt>0%</dt>\n",
       "\t\t<dd>0.39455</dd>\n",
       "\t<dt>25%</dt>\n",
       "\t\t<dd>0.43478</dd>\n",
       "\t<dt>50%</dt>\n",
       "\t\t<dd>0.44556</dd>\n",
       "\t<dt>75%</dt>\n",
       "\t\t<dd>0.45753</dd>\n",
       "\t<dt>100%</dt>\n",
       "\t\t<dd>0.49878</dd>\n",
       "</dl>\n"
      ],
      "text/latex": [
       "\\begin{description*}\n",
       "\\item[0\\textbackslash{}\\%] 0.39455\n",
       "\\item[25\\textbackslash{}\\%] 0.43478\n",
       "\\item[50\\textbackslash{}\\%] 0.44556\n",
       "\\item[75\\textbackslash{}\\%] 0.45753\n",
       "\\item[100\\textbackslash{}\\%] 0.49878\n",
       "\\end{description*}\n"
      ],
      "text/markdown": [
       "0%\n",
       ":   0.3945525%\n",
       ":   0.4347850%\n",
       ":   0.4455675%\n",
       ":   0.45753100%\n",
       ":   0.49878\n",
       "\n"
      ],
      "text/plain": [
       "     0%     25%     50%     75%    100% \n",
       "0.39455 0.43478 0.44556 0.45753 0.49878 "
      ]
     },
     "metadata": {},
     "output_type": "display_data"
    },
    {
     "data": {
      "text/html": [
       "'Credible interval 02 (95.00 %): (0.41375, 0.47748)'"
      ],
      "text/latex": [
       "'Credible interval 02 (95.00 \\%): (0.41375, 0.47748)'"
      ],
      "text/markdown": [
       "'Credible interval 02 (95.00 %): (0.41375, 0.47748)'"
      ],
      "text/plain": [
       "[1] \"Credible interval 02 (95.00 %): (0.41375, 0.47748)\""
      ]
     },
     "metadata": {},
     "output_type": "display_data"
    }
   ],
   "source": [
    "dpost.dens <-density(dpost.book)\n",
    "dpost.sim.MAP <- dpost.dens$x[which.max(dpost.dens$y)] # MAP\n",
    "dpost.sim.Expectation <- mean(dpost.book) # Posterior expectation\n",
    "dpost.sim.Variance <- var(dpost.book) # Posterior variance\n",
    "dpost.sim.Quartiles <- quantile(dpost.book,c(0,0.25,0.50,0.75,1)) # Posterior quartiles\n",
    "gamma<-0.95 # 95% interval\n",
    "delta<-(1-gamma)/2 # get delta\n",
    "dpost.sim.interval <- as.numeric(quantile(dpost.book,c(delta,1-delta))) # Compute interval\n",
    "\n",
    "# Print quantities\n",
    "sprintf(\"Quantities for Posterior\")\n",
    "sprintf(\"MAP\")\n",
    "round(dpost.sim.MAP,5)\n",
    "sprintf(\"Expectation\")\n",
    "round(dpost.sim.Expectation,5)\n",
    "sprintf(\"Variance\")\n",
    "round(dpost.sim.Variance,5)\n",
    "sprintf(\"Quartiles\")\n",
    "round(dpost.sim.Quartiles,5)\n",
    "sprintf(\"Credible interval 02 (%5.2f %%): (%6.5f, %6.5f)\",gamma*100, \n",
    "            round(dpost.sim.interval[1],5),round(dpost.sim.interval[2],5))"
   ]
  },
  {
   "cell_type": "code",
   "execution_count": 445,
   "metadata": {},
   "outputs": [
    {
     "data": {
      "text/html": [
       "'Quantities for Prior with Alpha0 and Beta0'"
      ],
      "text/latex": [
       "'Quantities for Prior with Alpha0 and Beta0'"
      ],
      "text/markdown": [
       "'Quantities for Prior with Alpha0 and Beta0'"
      ],
      "text/plain": [
       "[1] \"Quantities for Prior with Alpha0 and Beta0\""
      ]
     },
     "metadata": {},
     "output_type": "display_data"
    },
    {
     "data": {
      "text/html": [
       "'MAP'"
      ],
      "text/latex": [
       "'MAP'"
      ],
      "text/markdown": [
       "'MAP'"
      ],
      "text/plain": [
       "[1] \"MAP\""
      ]
     },
     "metadata": {},
     "output_type": "display_data"
    },
    {
     "data": {
      "text/html": [
       "0.04117"
      ],
      "text/latex": [
       "0.04117"
      ],
      "text/markdown": [
       "0.04117"
      ],
      "text/plain": [
       "[1] 0.04117"
      ]
     },
     "metadata": {},
     "output_type": "display_data"
    },
    {
     "data": {
      "text/html": [
       "'Expectation'"
      ],
      "text/latex": [
       "'Expectation'"
      ],
      "text/markdown": [
       "'Expectation'"
      ],
      "text/plain": [
       "[1] \"Expectation\""
      ]
     },
     "metadata": {},
     "output_type": "display_data"
    },
    {
     "data": {
      "text/html": [
       "0.49296"
      ],
      "text/latex": [
       "0.49296"
      ],
      "text/markdown": [
       "0.49296"
      ],
      "text/plain": [
       "[1] 0.49296"
      ]
     },
     "metadata": {},
     "output_type": "display_data"
    },
    {
     "data": {
      "text/html": [
       "'Variance'"
      ],
      "text/latex": [
       "'Variance'"
      ],
      "text/markdown": [
       "'Variance'"
      ],
      "text/plain": [
       "[1] \"Variance\""
      ]
     },
     "metadata": {},
     "output_type": "display_data"
    },
    {
     "data": {
      "text/html": [
       "0.0984"
      ],
      "text/latex": [
       "0.0984"
      ],
      "text/markdown": [
       "0.0984"
      ],
      "text/plain": [
       "[1] 0.0984"
      ]
     },
     "metadata": {},
     "output_type": "display_data"
    },
    {
     "data": {
      "text/html": [
       "'Quartiles'"
      ],
      "text/latex": [
       "'Quartiles'"
      ],
      "text/markdown": [
       "'Quartiles'"
      ],
      "text/plain": [
       "[1] \"Quartiles\""
      ]
     },
     "metadata": {},
     "output_type": "display_data"
    },
    {
     "data": {
      "text/html": [
       "<dl class=dl-horizontal>\n",
       "\t<dt>0%</dt>\n",
       "\t\t<dd>0</dd>\n",
       "\t<dt>25%</dt>\n",
       "\t\t<dd>0.20442</dd>\n",
       "\t<dt>50%</dt>\n",
       "\t\t<dd>0.49007</dd>\n",
       "\t<dt>75%</dt>\n",
       "\t\t<dd>0.77803</dd>\n",
       "\t<dt>100%</dt>\n",
       "\t\t<dd>1</dd>\n",
       "</dl>\n"
      ],
      "text/latex": [
       "\\begin{description*}\n",
       "\\item[0\\textbackslash{}\\%] 0\n",
       "\\item[25\\textbackslash{}\\%] 0.20442\n",
       "\\item[50\\textbackslash{}\\%] 0.49007\n",
       "\\item[75\\textbackslash{}\\%] 0.77803\n",
       "\\item[100\\textbackslash{}\\%] 1\n",
       "\\end{description*}\n"
      ],
      "text/markdown": [
       "0%\n",
       ":   025%\n",
       ":   0.2044250%\n",
       ":   0.4900775%\n",
       ":   0.77803100%\n",
       ":   1\n",
       "\n"
      ],
      "text/plain": [
       "     0%     25%     50%     75%    100% \n",
       "0.00000 0.20442 0.49007 0.77803 1.00000 "
      ]
     },
     "metadata": {},
     "output_type": "display_data"
    },
    {
     "data": {
      "text/html": [
       "'Credible interval 02 (95.00 %): (0.01037, 0.98795)'"
      ],
      "text/latex": [
       "'Credible interval 02 (95.00 \\%): (0.01037, 0.98795)'"
      ],
      "text/markdown": [
       "'Credible interval 02 (95.00 %): (0.01037, 0.98795)'"
      ],
      "text/plain": [
       "[1] \"Credible interval 02 (95.00 %): (0.01037, 0.98795)\""
      ]
     },
     "metadata": {},
     "output_type": "display_data"
    }
   ],
   "source": [
    "dprior_est.dens <-density(dprior_est)\n",
    "dprior_est.sim.MAP <- dprior_est.dens$x[which.max(dprior_est.dens$y)] # MAP\n",
    "dprior_est.sim.Expectation <- mean(dprior_est) # Posterior expectation\n",
    "dprior_est.sim.Variance <- var(dprior_est) # Posterior variance\n",
    "dprior_est.sim.Quartiles <- quantile(dprior_est,c(0,0.25,0.50,0.75,1)) # Posterior quartiles\n",
    "gamma<-0.95 # 95% interval\n",
    "delta<-(1-gamma)/2 # get delta\n",
    "dprior_est.sim.interval <- as.numeric(quantile(dprior_est,c(delta,1-delta))) # Compute interval\n",
    "\n",
    "# Print quantities\n",
    "sprintf(\"Quantities for Prior with Alpha0 and Beta0\")\n",
    "sprintf(\"MAP\")\n",
    "round(dprior_est.sim.MAP,5)\n",
    "sprintf(\"Expectation\")\n",
    "round(dprior_est.sim.Expectation,5)\n",
    "sprintf(\"Variance\")\n",
    "round(dprior_est.sim.Variance,5)\n",
    "sprintf(\"Quartiles\")\n",
    "round(dprior_est.sim.Quartiles,5)\n",
    "sprintf(\"Credible interval 02 (%5.2f %%): (%6.5f, %6.5f)\",gamma*100, \n",
    "            round(dprior_est.sim.interval[1],5),round(dprior_est.sim.interval[2],5))"
   ]
  },
  {
   "cell_type": "code",
   "execution_count": 448,
   "metadata": {},
   "outputs": [
    {
     "data": {
      "text/html": [
       "'Quantities for Prior with Alpha0 and Beta0'"
      ],
      "text/latex": [
       "'Quantities for Prior with Alpha0 and Beta0'"
      ],
      "text/markdown": [
       "'Quantities for Prior with Alpha0 and Beta0'"
      ],
      "text/plain": [
       "[1] \"Quantities for Prior with Alpha0 and Beta0\""
      ]
     },
     "metadata": {},
     "output_type": "display_data"
    },
    {
     "data": {
      "text/html": [
       "'MAP'"
      ],
      "text/latex": [
       "'MAP'"
      ],
      "text/markdown": [
       "'MAP'"
      ],
      "text/plain": [
       "[1] \"MAP\""
      ]
     },
     "metadata": {},
     "output_type": "display_data"
    },
    {
     "data": {
      "text/html": [
       "0.48154"
      ],
      "text/latex": [
       "0.48154"
      ],
      "text/markdown": [
       "0.48154"
      ],
      "text/plain": [
       "[1] 0.48154"
      ]
     },
     "metadata": {},
     "output_type": "display_data"
    },
    {
     "data": {
      "text/html": [
       "'Expectation'"
      ],
      "text/latex": [
       "'Expectation'"
      ],
      "text/markdown": [
       "'Expectation'"
      ],
      "text/plain": [
       "[1] \"Expectation\""
      ]
     },
     "metadata": {},
     "output_type": "display_data"
    },
    {
     "data": {
      "text/html": [
       "0.49129"
      ],
      "text/latex": [
       "0.49129"
      ],
      "text/markdown": [
       "0.49129"
      ],
      "text/plain": [
       "[1] 0.49129"
      ]
     },
     "metadata": {},
     "output_type": "display_data"
    },
    {
     "data": {
      "text/html": [
       "'Variance'"
      ],
      "text/latex": [
       "'Variance'"
      ],
      "text/markdown": [
       "'Variance'"
      ],
      "text/plain": [
       "[1] \"Variance\""
      ]
     },
     "metadata": {},
     "output_type": "display_data"
    },
    {
     "data": {
      "text/html": [
       "0.04206"
      ],
      "text/latex": [
       "0.04206"
      ],
      "text/markdown": [
       "0.04206"
      ],
      "text/plain": [
       "[1] 0.04206"
      ]
     },
     "metadata": {},
     "output_type": "display_data"
    },
    {
     "data": {
      "text/html": [
       "'Quartiles'"
      ],
      "text/latex": [
       "'Quartiles'"
      ],
      "text/markdown": [
       "'Quartiles'"
      ],
      "text/plain": [
       "[1] \"Quartiles\""
      ]
     },
     "metadata": {},
     "output_type": "display_data"
    },
    {
     "data": {
      "text/html": [
       "<dl class=dl-horizontal>\n",
       "\t<dt>0%</dt>\n",
       "\t\t<dd>0</dd>\n",
       "\t<dt>25%</dt>\n",
       "\t\t<dd>0.42342</dd>\n",
       "\t<dt>50%</dt>\n",
       "\t\t<dd>0.48448</dd>\n",
       "\t<dt>75%</dt>\n",
       "\t\t<dd>0.54955</dd>\n",
       "\t<dt>100%</dt>\n",
       "\t\t<dd>0.999</dd>\n",
       "</dl>\n"
      ],
      "text/latex": [
       "\\begin{description*}\n",
       "\\item[0\\textbackslash{}\\%] 0\n",
       "\\item[25\\textbackslash{}\\%] 0.42342\n",
       "\\item[50\\textbackslash{}\\%] 0.48448\n",
       "\\item[75\\textbackslash{}\\%] 0.54955\n",
       "\\item[100\\textbackslash{}\\%] 0.999\n",
       "\\end{description*}\n"
      ],
      "text/markdown": [
       "0%\n",
       ":   025%\n",
       ":   0.4234250%\n",
       ":   0.4844875%\n",
       ":   0.54955100%\n",
       ":   0.999\n",
       "\n"
      ],
      "text/plain": [
       "     0%     25%     50%     75%    100% \n",
       "0.00000 0.42342 0.48448 0.54955 0.99900 "
      ]
     },
     "metadata": {},
     "output_type": "display_data"
    },
    {
     "data": {
      "text/html": [
       "'Credible interval 02 (95.00 %): (0.05205, 0.95295)'"
      ],
      "text/latex": [
       "'Credible interval 02 (95.00 \\%): (0.05205, 0.95295)'"
      ],
      "text/markdown": [
       "'Credible interval 02 (95.00 %): (0.05205, 0.95295)'"
      ],
      "text/plain": [
       "[1] \"Credible interval 02 (95.00 %): (0.05205, 0.95295)\""
      ]
     },
     "metadata": {},
     "output_type": "display_data"
    }
   ],
   "source": [
    "n<-980\n",
    "x<-437\n",
    "N<-1000 # number of grid intervals\n",
    "t<-seq(0,1,length=N)\n",
    "t <- t[-N] # remove last point (equal to 1: we want N intervals)\n",
    "dprior_piecewise <- sample(t, 10000, replace=TRUE, prob=h(t)) # Sample piecewise prior\n",
    "\n",
    "dprior_piecewise.dens <-density(dprior_piecewise)\n",
    "dprior_piecewise.sim.MAP <- dprior_piecewise.dens$x[which.max(dprior_piecewise.dens$y)] # MAP\n",
    "dprior_piecewise.sim.Expectation <- mean(dprior_piecewise) # Posterior expectation\n",
    "dprior_piecewise.sim.Variance <- var(dprior_piecewise) # Posterior variance\n",
    "dprior_piecewise.sim.Quartiles <- quantile(dprior_piecewise,c(0,0.25,0.50,0.75,1)) # Posterior quartiles\n",
    "gamma<-0.95 # 95% interval\n",
    "delta<-(1-gamma)/2 # get delta\n",
    "dprior_piecewise.sim.interval <- as.numeric(quantile(dprior_piecewise,c(delta,1-delta))) # Compute interval\n",
    "\n",
    "# Print quantities\n",
    "sprintf(\"Quantities for Prior with Alpha0 and Beta0\")\n",
    "sprintf(\"MAP\")\n",
    "round(dprior_piecewise.sim.MAP,5)\n",
    "sprintf(\"Expectation\")\n",
    "round(dprior_piecewise.sim.Expectation,5)\n",
    "sprintf(\"Variance\")\n",
    "round(dprior_piecewise.sim.Variance,5)\n",
    "sprintf(\"Quartiles\")\n",
    "round(dprior_piecewise.sim.Quartiles,5)\n",
    "sprintf(\"Credible interval 02 (%5.2f %%): (%6.5f, %6.5f)\",gamma*100, \n",
    "            round(dprior_piecewise.sim.interval[1],5),round(dprior_piecewise.sim.interval[2],5))"
   ]
  },
  {
   "cell_type": "markdown",
   "metadata": {},
   "source": [
    "We can see that the expectation and variance for both priors coincide as the Beta($\\alpha_0, beta_0$) was made to fit the expectation and variance of the piecewise distribution. However both distribution look very different in the histogram as we saw earlier, one is a valley and the other one is a spike this makes the MAP and quartiles vary widely. Compared to the posterior the expectation is biased to the right and has more variance than after taking the observations into account; this creates a tighter credible interval for the posterior than for the priors since for the piece wise 40% of the population is outside of the spike."
   ]
  },
  {
   "cell_type": "markdown",
   "metadata": {},
   "source": [
    "## 02.02."
   ]
  },
  {
   "cell_type": "markdown",
   "metadata": {},
   "source": [
    "Simulate the prior predictive pmf with the nonconjugate piecewise linear pdf. Do it in both possible ways: (1) Sample from $h$ by the inverse transformation method and (2) Sample from its discretization. \n",
    "\n",
    "Summarize the resulting simulated sample: plot the empirical pmf, compute median, mode, expectation, standard deviation. Compare the results with those obtained from the conjugate prior $\\textrm{Beta}(\\alpha_0,\\beta_0)$. "
   ]
  },
  {
   "cell_type": "markdown",
   "metadata": {},
   "source": [
    "## 02.03."
   ]
  },
  {
   "cell_type": "markdown",
   "metadata": {},
   "source": [
    "Simulate the posterior predictive pmf (given the observed data of 437 female births from 980 placenta previa births) with the nonconjugate piecewise linear pdf. Sample from the the discretization of the posterior pdf as in Exercise 1.\n",
    "\n",
    "Summarize the resulting simulated sample: plot the empirical pmf, compute median, mode, expectation, standard deviation. Compare the results with those obtained from the conjugate prior $\\textrm{Beta}(\\alpha_0,\\beta_0)$."
   ]
  },
  {
   "cell_type": "code",
   "execution_count": null,
   "metadata": {
    "vscode": {
     "languageId": "r"
    }
   },
   "outputs": [],
   "source": []
  }
 ],
 "metadata": {
  "kernelspec": {
   "display_name": "R",
   "language": "R",
   "name": "ir"
  },
  "language_info": {
   "codemirror_mode": "r",
   "file_extension": ".r",
   "mimetype": "text/x-r-source",
   "name": "R",
   "pygments_lexer": "r",
   "version": "3.6.1"
  }
 },
 "nbformat": 4,
 "nbformat_minor": 4
}
