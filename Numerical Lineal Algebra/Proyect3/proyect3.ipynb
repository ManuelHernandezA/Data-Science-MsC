{
 "cells": [
  {
   "cell_type": "markdown",
   "metadata": {},
   "source": [
    "<center><h1>Numerical Linear Algebra: Page Rank implementations</h1>\n",
    "<h2><i>Project 3</i></h2>\n",
    "\n",
    "**Manuel Andrés Hernández Alonso**, `mhernaal70.alumnes@ub.edu`, **niub**20274855\n",
    "</center>\n"
   ]
  },
  {
   "cell_type": "markdown",
   "metadata": {},
   "source": [
    "The goal of this project is to code two different implementations of the PageRank algorithm.\n"
   ]
  },
  {
   "cell_type": "markdown",
   "metadata": {},
   "source": [
    "---"
   ]
  },
  {
   "cell_type": "markdown",
   "metadata": {},
   "source": [
    "Given a webpage network with $n$ webpages and a link matrix $G$ (defining a direct graph), we\n",
    "define the PageRank (PR) score $x_k$ of the page $k$ as\n",
    "\n",
    "$$\n",
    "x_k = \\sum_{j\\in L_k}{\\frac{x_j}{n_j}}\n",
    "$$\n",
    "\n",
    "where $L_k =$ {webpages with link to page k}, and $n_j =$ # outgoing links from page j.\n",
    "\n",
    "There are two problems one can find:\n",
    "\n",
    "- For disconnected networks the PR is not unique.\n",
    "- If the network has dangling nodes then the matrix $A$ is column substochastic (and has no eigenvector of eigenvalue 1)\n",
    "\n",
    "For these problems one can consider a damping facor $0 \\leq m \\leq 1$ and a matrix M_m to compute a unique PR vector. The algorithm to reduce to the iterations of the power method such that\n",
    "\n",
    "$$\n",
    "x_{k+1} = (1-m)GDx_{k}+ez^t x_k\n",
    "$$\n",
    "\n",
    "until $||x_{k+1}-x_k||_\\infty < tol$, where $D=$diag$(d_{11}, ... , d_{nn})$ such that $d_{jj} = 1/n_j$ if $n_j \\neq 0$ and $d_{jj}=0$ otherwise; $e=(1,...,1)^t$ and $z=(z_1,...,z_n)^t$ is the vector given by:\n",
    "\n",
    "$$\n",
    "z = \\begin{cases}\n",
    "    m/n & \\text{if the column $j$ of the matrix $A$ contains non-zero elements} \\\\\n",
    "    1/n & \\text{otherwise}\n",
    "  \\end{cases}\n",
    "$$\n",
    "\n",
    "\n",
    "**Exercise 1:** Compute the PR vector of $M_m$ using the power method (adapted to PR computation).\n",
    "\n",
    "For this exercise firstly, I loaded up the ```p2p-Gnutella30.mtx``` matrix into the program using ```mread``` from ```scipy.io```. Then, I implemented the algorithm in the given ```code_pr.py``` in the function ```compute_PR(G, m=0.15,tol=1e-8)```. During testing I found that having a tolerance of around $1\\times 10^{-8}$ worked best, since it was a compromise in time and precision of the solution.\n",
    "\n",
    "For the different computations performed in the function, I tried to compute as many things as I could before the iterations such as $A=GD$ and $ez^t$. I also used the sum of the axis $j$ of $G$ to count the number of links of page $j$ since the values are either 1 or 0."
   ]
  },
  {
   "cell_type": "markdown",
   "metadata": {},
   "source": [
    "---"
   ]
  },
  {
   "cell_type": "markdown",
   "metadata": {},
   "source": [
    "Instead of computing the full matrices for the iterates, one can compute the iterates using another method:\n",
    "\n",
    "1. From the vecotrs that store the link matrix $G$ obtain, for each $j=1,...,n$, the set of indices $L_j$ corresponding to pages having a link with page $j$.\n",
    "2. Compute the values $n_j$ as the length of the set $L_j$.\n",
    "3. Iterate $x_{k+1} = M_m x_k$ until $||x_{k+1} - x_k||_\\infty < tol$ using the idea showed below\n",
    "\n",
    "Using that $g_{i,j}=0$ if, and only if, $i \\notin L_j$, the product $Mx$ can be implemented as follows"
   ]
  },
  {
   "cell_type": "code",
   "execution_count": null,
   "metadata": {},
   "outputs": [],
   "source": [
    "xc=x\n",
    "x=0\n",
    "for j in range (0,n):\n",
    "    if(n[j]==0):\n",
    "        x=x+xc[j]/n\n",
    "    else:\n",
    "        for i in L[j]:\n",
    "    x[i]=x[i]+xc[j]/n[j]\n",
    "x=(1-m)*x+m/n"
   ]
  },
  {
   "cell_type": "markdown",
   "metadata": {},
   "source": [
    "**Exercise 2:** Compute the PR vector of $M_m$ using the power method without storing matrices.\n",
    "\n",
    "Using the same base code as before, I implemented the optimized algorithm without storing the matrices using the code snippet given. I used the length of the sets given by the non-zero values found in G. The implementation can also be found in ```code_pr.py``` in the function ```compute_PR2(G, m=0.15, tol=1e-8)```."
   ]
  }
 ],
 "metadata": {
  "kernelspec": {
   "display_name": "Python 3 (ipykernel)",
   "language": "python",
   "name": "python3"
  },
  "language_info": {
   "codemirror_mode": {
    "name": "ipython",
    "version": 3
   },
   "file_extension": ".py",
   "mimetype": "text/x-python",
   "name": "python",
   "nbconvert_exporter": "python",
   "pygments_lexer": "ipython3",
   "version": "3.9.12"
  }
 },
 "nbformat": 4,
 "nbformat_minor": 2
}
